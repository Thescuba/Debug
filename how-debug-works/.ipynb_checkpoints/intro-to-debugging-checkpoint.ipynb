{
 "cells": [
  {
   "cell_type": "markdown",
   "metadata": {},
   "source": [
    "# Intro to Debugging\n",
    "## Facts on Debugging\n",
    "* 50% of the budget on software projects is spent on testing and debugging and may reach 75%\n",
    "\n",
    "* Software bugs in 2002 cost 59.5 billions dollars and year but improvements in testing and debuggings can reduce the cost by a third to 22 billion a year.\n",
    "\n",
    "The the worst thing about debuggings is that it is a search process that can take any length from a few minutes, hours or days. If you dont know how long it may take its best to use a systematic process. \n",
    "\n",
    "### Where does the term bug come from?\n",
    "On September 9th 1947 a moth got stuck in a relay and got carbonized and caused a short circuit and cause the machine to break. Technicians receive mouth from the relay and this is the first bug found on a computer. "
   ]
  },
  {
   "cell_type": "markdown",
   "metadata": {},
   "source": [
    "## Remove HTML Markup\n",
    "![](img/remove_html.PNG)\n",
    "We are tasked the removing HTML Tags from an input. Below we have an example of an input and output. We also have a picture of a finite state machine that will represents how our code will work. We can be in 2 states either the <code>tag</code> or <code>not tag</code> mode. We can only add a character if we are not in tag mode and the character is a not <code><</code> else we would be moved to tag mode. In the other case where were are in tag mode if the character is <code>></code> we keave to no tag mode but in all other cases we stay in tag mode. Now let see if we translate this to code."
   ]
  },
  {
   "cell_type": "code",
   "execution_count": 4,
   "metadata": {},
   "outputs": [
    {
     "name": "stdout",
     "output_type": "stream",
     "text": [
      "foo\n"
     ]
    }
   ],
   "source": [
    "def remove_html_markup(s):\n",
    "    tag =False\n",
    "    out = \"\"\n",
    "    for c in s:\n",
    "        if c == '<':\n",
    "            tag = True\n",
    "        elif c == '>':\n",
    "            tag = False\n",
    "        elif not tag:\n",
    "            out = out + c\n",
    "    return out\n",
    "print(remove_html_markup(\"<b>foo</b>\"))"
   ]
  },
  {
   "cell_type": "code",
   "execution_count": 9,
   "metadata": {},
   "outputs": [
    {
     "name": "stdout",
     "output_type": "stream",
     "text": [
      "foo\n",
      "\"foo\n",
      "foo\n"
     ]
    }
   ],
   "source": [
    "print(remove_html_markup(\"\"\"<a href=\"foo.html\">foo</a>\"\"\"))\n",
    "print(remove_html_markup(\"\"\"<a href=\">\">foo</a>\"\"\"))\n",
    "print(remove_html_markup(\"\"\"<a href=\"\">foo</a>\"\"\"))"
   ]
  },
  {
   "cell_type": "markdown",
   "metadata": {},
   "source": [
    "Look like we have a bug in our code! Looks like "
   ]
  },
  {
   "cell_type": "markdown",
   "metadata": {},
   "source": [
    "Our first example looks pretty good but now we should check a few more."
   ]
  },
  {
   "cell_type": "markdown",
   "metadata": {},
   "source": [
    "![](img/remove_html.PNG)"
   ]
  },
  {
   "cell_type": "code",
   "execution_count": null,
   "metadata": {},
   "outputs": [],
   "source": [
    "![](img/remove_html.PNG)"
   ]
  }
 ],
 "metadata": {
  "kernelspec": {
   "display_name": "Python 3",
   "language": "python",
   "name": "python3"
  },
  "language_info": {
   "codemirror_mode": {
    "name": "ipython",
    "version": 3
   },
   "file_extension": ".py",
   "mimetype": "text/x-python",
   "name": "python",
   "nbconvert_exporter": "python",
   "pygments_lexer": "ipython3",
   "version": "3.7.3"
  }
 },
 "nbformat": 4,
 "nbformat_minor": 2
}
