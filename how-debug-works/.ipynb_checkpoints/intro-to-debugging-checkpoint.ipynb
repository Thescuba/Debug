{
 "cells": [
  {
   "cell_type": "markdown",
   "metadata": {},
   "source": [
    "# Intro to Debugging\n",
    "## Facts on Debugging\n",
    "* 50% of the budget on software projects is spent on testing and debugging and may even go up to 75%\n",
    "\n",
    "* Software bugs in 2002 cost $59.5 billions a year but improvements in testing and debuggings can reduce the cost but a third to 22 billion a year.\n",
    "\n",
    "The the worst thing about debuggings is that it is a search process that can take any length from a few minutes, hours or days. If you dont know how long it may take its best to use a systematic process. \n",
    "\n",
    "Where does the term bug come from?\n",
    "Sept 9th 1947 a moth got stuck in a relay and got cabonized and caused a short curcuit and cause the machine to break. Technicans reciecd mouth from the relay and this is the first bug found on a computer. "
   ]
  },
  {
   "cell_type": "markdown",
   "metadata": {},
   "source": [
    "## Remove HTML Markup\n"
   ]
  },
  {
   "cell_type": "code",
   "execution_count": 1,
   "metadata": {},
   "outputs": [
    {
     "name": "stderr",
     "output_type": "stream",
     "text": [
      "'[]' is not recognized as an internal or external command,\n",
      "operable program or batch file.\n"
     ]
    }
   ],
   "source": [
    "![](img/remove_html.PNG)"
   ]
  },
  {
   "cell_type": "markdown",
   "metadata": {},
   "source": [
    "## The Devil's Guide to Debugging\n",
    "* Scatter output statements everywhere\n",
    "* Debug the program into existence\n",
    "* Never back up earlier versions\n",
    "* Don't bother understanding what the program should do\n",
    "* Use the most obvious fix"
   ]
  }
 ],
 "metadata": {
  "kernelspec": {
   "display_name": "Python 3",
   "language": "python",
   "name": "python3"
  },
  "language_info": {
   "codemirror_mode": {
    "name": "ipython",
    "version": 3
   },
   "file_extension": ".py",
   "mimetype": "text/x-python",
   "name": "python",
   "nbconvert_exporter": "python",
   "pygments_lexer": "ipython3",
   "version": "3.7.1"
  }
 },
 "nbformat": 4,
 "nbformat_minor": 2
}
