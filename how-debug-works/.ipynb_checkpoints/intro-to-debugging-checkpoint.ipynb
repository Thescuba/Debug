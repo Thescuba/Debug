{
 "cells": [
  {
   "cell_type": "markdown",
   "metadata": {},
   "source": [
    "# Intro to Debugging\n",
    "## Facts on Debugging\n",
    "* 50% of the budget on software projects is spent on testing and debugging and may reach 75%\n",
    "\n",
    "* Software bugs in 2002 cost 59.5 billions dollars and year but improvements in testing and debuggings can reduce the cost by a third to 22 billion a year.\n",
    "\n",
    "The the worst thing about debuggings is that it is a search process that can take any length from a few minutes, hours or days. If you dont know how long it may take its best to use a systematic process. \n",
    "\n",
    "### Where does the term bug come from?\n",
    "On September 9th 1947 a moth got stuck in a relay and got carbonized and caused a short circuit and cause the machine to break. Technicians receive mouth from the relay and this is the first bug found on a computer. "
   ]
  },
  {
   "cell_type": "markdown",
   "metadata": {},
   "source": [
    "## Remove HTML Markup\n",
    "![](img/remove_html.PNG)\n",
    "We are tasked the removing HTML Tags from an input. Below we have an example of an input and output. We also have a picture of a finite state machine that will represents how our code will work. We can be in 2 states either the <code>tag</code> or <code>not tag</code> mode. We can only add a character if we are not in tag mode and the character is a not <code><</code> else we would be moved to tag mode. In the other case where were are in tag mode if the character is <code>></code> we keave to no tag mode but in all other cases we stay in tag mode. Now let see if we translate this to code."
   ]
  },
  {
   "cell_type": "code",
   "execution_count": 2,
   "metadata": {},
   "outputs": [
    {
     "name": "stdout",
     "output_type": "stream",
     "text": [
      "foo\n"
     ]
    }
   ],
   "source": [
    "def remove_html_markup(s):\n",
    "    tag =False\n",
    "    out = \"\"\n",
    "    for c in s:\n",
    "        if c == '<':\n",
    "            tag = True\n",
    "        elif c == '>':\n",
    "            tag = False\n",
    "        elif not tag:\n",
    "            out = out + c\n",
    "    return out\n",
    "print(remove_html_markup(\"<b>foo</b>\"))"
   ]
  },
  {
   "cell_type": "markdown",
   "metadata": {},
   "source": [
    "Our first example seem to work exactly as we expected but now we should check a few more examples."
   ]
  },
  {
   "cell_type": "code",
   "execution_count": 3,
   "metadata": {},
   "outputs": [
    {
     "name": "stdout",
     "output_type": "stream",
     "text": [
      "foo\n",
      "\"foo\n",
      "foo\n"
     ]
    }
   ],
   "source": [
    "print(remove_html_markup(\"\"\"<a href=\"foo.html\">foo</a>\"\"\"))\n",
    "print(remove_html_markup(\"\"\"<a href=\">\">foo</a>\"\"\"))\n",
    "print(remove_html_markup(\"\"\"<a href=\"\">foo</a>\"\"\"))"
   ]
  },
  {
   "cell_type": "markdown",
   "metadata": {},
   "source": [
    "Look like we have a bug in our code! Looks like it seems that we need to account for <code>></code> inside our html tag. Looks like we can ignore brackets inside our quotation marks. Let add a third state to our state machine."
   ]
  },
  {
   "cell_type": "markdown",
   "metadata": {},
   "source": [
    "![](img/first_bug.PNG)"
   ]
  },
  {
   "cell_type": "code",
   "execution_count": 9,
   "metadata": {},
   "outputs": [
    {
     "name": "stdout",
     "output_type": "stream",
     "text": [
      "foo\n",
      "foo\n",
      "foo\n"
     ]
    }
   ],
   "source": [
    "def remove_html_markup(s):\n",
    "    tag = False\n",
    "    quote = False\n",
    "    out = \"\"\n",
    "    \n",
    "    for c in s:\n",
    "        if c == '<' and not quote:\n",
    "            tag = True\n",
    "        elif c == '>'and not quote:\n",
    "            tag = False\n",
    "        elif c == '\"' or c == \"'\" and tag:\n",
    "            quote = not quote\n",
    "        elif not tag:\n",
    "            out = out + c\n",
    "    return out\n",
    "print(remove_html_markup(\"\"\"<a href=\"foo.html\">foo</a>\"\"\"))\n",
    "print(remove_html_markup(\"\"\"<a href=\">\">foo</a>\"\"\"))\n",
    "print(remove_html_markup(\"\"\"<a href=\"\">foo</a>\"\"\"))"
   ]
  },
  {
   "cell_type": "markdown",
   "metadata": {},
   "source": [
    "Look like we are now passing all of our test. Lets if our code has any other bugs."
   ]
  },
  {
   "cell_type": "code",
   "execution_count": 5,
   "metadata": {},
   "outputs": [
    {
     "name": "stdout",
     "output_type": "stream",
     "text": [
      "<b>foo</b>\n"
     ]
    }
   ],
   "source": [
    "print(remove_html_markup('\"<b>foo</b>\"'))"
   ]
  },
  {
   "cell_type": "markdown",
   "metadata": {},
   "source": [
    "Looks like their is still a bug in our code from above. The markup seems to still exist in our test. The first thing we would may want to do is to print out everything so we can see what is happening in our code. Printing out our could cause a security nightmare, in Mac OS version 10.7.2/10.7.3 there was a security issue because a programer had left debugging  print statements in the code. This resulted in you as a user let you in or not let you in and store your log of your passwords entered. Before we go any further lets review the devil's guide to debugging, which tell us how not to go about debugging our code."
   ]
  },
  {
   "cell_type": "markdown",
   "metadata": {},
   "source": [
    "## The Devil's Guide to Debugging\n",
    "* Scatter output statements everywhere\n",
    "* Debug the program into existence\n",
    "* Never back up earlier versions\n",
    "* Don't bother understanding what the program should do\n",
    "* Use the most obvious fix\n",
    "Failures are errors, a defect is an error in the code that maybe result in a failure. A defect may also be referred to as a bug. Every infection can be traced back to a defect that caused it."
   ]
  },
  {
   "cell_type": "markdown",
   "metadata": {},
   "source": [
    "## The Scientific Method\n",
    "Say you are Isacc Newton and you sit under a tree, and an apple falls. If apples keeps falling, you may want to try to see if bricks fall down. It seems cups also falls down. You may think that everything falls down. Later on someone says a balloon does up. \n",
    "\n",
    "* Inital observation\n",
    "* Hypothesis\n",
    "* Prediction\n",
    "* Experiment\n",
    "* Observation\n",
    "* Support-refine, Reject-create new\n",
    "\n",
    "Repeat these steps until your hypothesis is consistent with your observation.\n",
    "\n",
    "Lets try this with our code. We would like to match the results from the table below.\n",
    "\n",
    "|input|expected|output|\n",
    "|---|---|---|\n",
    "|`<b>foo</b>`| foo  | foo  |   \n",
    "|`\"<b>foo</b>\"`   |\"foo\"   | `<b>foo</b>`   |   \n",
    "\n",
    "What do we think is happening here?\n",
    "\n",
    "Two hypotheses that are consistent with our observations so far are \n",
    "1. Double quotes are stripped from tagged input\n",
    "2. The tag `<b>` is always stripped from the input\n"
   ]
  },
  {
   "cell_type": "markdown",
   "metadata": {},
   "source": [
    "Let try out first hypothese that double quotes are stripped from tagged input with 3 test cases below\n"
   ]
  },
  {
   "cell_type": "code",
   "execution_count": 10,
   "metadata": {},
   "outputs": [
    {
     "name": "stdout",
     "output_type": "stream",
     "text": [
      "foo\n",
      "<bar\n",
      "\n"
     ]
    }
   ],
   "source": [
    "print(remove_html_markup('\"foo\"'))\n",
    "print(remove_html_markup('\"<bar\"'))\n",
    "print(remove_html_markup(\"\"))"
   ]
  },
  {
   "cell_type": "markdown",
   "metadata": {},
   "source": [
    "These results agree with our first hypothesis seem to be that double quotation marks are stripped from our input. The only time quotes are handled are in the line <code>elif c == '\"' or c == \"'\":</code>. We think the error is due to tag and we can check this by setting an asset condition. The code below adds <code>assert not tag</code> to throw an exception if tag is ever set to true.\n",
    "\n"
   ]
  },
  {
   "cell_type": "code",
   "execution_count": 11,
   "metadata": {},
   "outputs": [],
   "source": [
    "def remove_html_markup(s):\n",
    "    tag = False\n",
    "    quote = False\n",
    "    out = \"\"\n",
    "    \n",
    "    for c in s:\n",
    "        assert not tag\n",
    "        if c == '<' and not quote:\n",
    "            tag = True\n",
    "        elif c == '>'and not quote:\n",
    "            tag = False\n",
    "        elif c == '\"' or c == \"'\" and tag:\n",
    "            quote = not quote\n",
    "        elif not tag:\n",
    "            out = out + c\n",
    "    return out"
   ]
  },
  {
   "cell_type": "markdown",
   "metadata": {},
   "source": [
    "After inseting assert not tag we have two possible outcomes, the program raises an exception or the outputs stay the same meaning tag is never set."
   ]
  },
  {
   "cell_type": "code",
   "execution_count": 12,
   "metadata": {},
   "outputs": [
    {
     "name": "stdout",
     "output_type": "stream",
     "text": [
      "foo\n",
      "<bar\n",
      "\n"
     ]
    }
   ],
   "source": [
    "print(remove_html_markup('\"foo\"'))\n",
    "print(remove_html_markup('\"<bar\"'))\n",
    "print(remove_html_markup(\"\"))"
   ]
  },
  {
   "cell_type": "markdown",
   "metadata": {},
   "source": [
    "The results seem to be the same meaning that the tag is never set. We may come up with a new hypthese that the expression <code>c == '\"' or c == \"'\" and tag:</code> never evaluates as true. To check this we add our assert right after."
   ]
  },
  {
   "cell_type": "code",
   "execution_count": 17,
   "metadata": {},
   "outputs": [],
   "source": [
    "def remove_html_markup(s):\n",
    "    tag = False\n",
    "    quote = False\n",
    "    out = \"\"\n",
    "    \n",
    "    for c in s:\n",
    "        assert not tag\n",
    "        if c == '<' and not quote:\n",
    "            tag = True\n",
    "        elif c == '>'and not quote:\n",
    "            tag = False\n",
    "        elif c == '\"' or c == \"'\" and tag:\n",
    "            assert False\n",
    "            quote = not quote\n",
    "        elif not tag:\n",
    "            out = out + c\n",
    "    return out"
   ]
  },
  {
   "cell_type": "markdown",
   "metadata": {},
   "source": [
    "The two possible outcomes of our program would be that the program raises an exception or output stays the same."
   ]
  },
  {
   "cell_type": "code",
   "execution_count": 18,
   "metadata": {},
   "outputs": [
    {
     "ename": "AssertionError",
     "evalue": "",
     "output_type": "error",
     "traceback": [
      "\u001b[1;31m---------------------------------------------------------------------------\u001b[0m",
      "\u001b[1;31mAssertionError\u001b[0m                            Traceback (most recent call last)",
      "\u001b[1;32m<ipython-input-18-5f87d6c90278>\u001b[0m in \u001b[0;36m<module>\u001b[1;34m\u001b[0m\n\u001b[1;32m----> 1\u001b[1;33m \u001b[0mprint\u001b[0m\u001b[1;33m(\u001b[0m\u001b[0mremove_html_markup\u001b[0m\u001b[1;33m(\u001b[0m\u001b[1;34m'\"foo\"'\u001b[0m\u001b[1;33m)\u001b[0m\u001b[1;33m)\u001b[0m\u001b[1;33m\u001b[0m\u001b[1;33m\u001b[0m\u001b[0m\n\u001b[0m\u001b[0;32m      2\u001b[0m \u001b[0mprint\u001b[0m\u001b[1;33m(\u001b[0m\u001b[0mremove_html_markup\u001b[0m\u001b[1;33m(\u001b[0m\u001b[1;34m'\"<bar\"'\u001b[0m\u001b[1;33m)\u001b[0m\u001b[1;33m)\u001b[0m\u001b[1;33m\u001b[0m\u001b[1;33m\u001b[0m\u001b[0m\n\u001b[0;32m      3\u001b[0m \u001b[0mprint\u001b[0m\u001b[1;33m(\u001b[0m\u001b[0mremove_html_markup\u001b[0m\u001b[1;33m(\u001b[0m\u001b[1;34m\"\"\u001b[0m\u001b[1;33m)\u001b[0m\u001b[1;33m)\u001b[0m\u001b[1;33m\u001b[0m\u001b[1;33m\u001b[0m\u001b[0m\n",
      "\u001b[1;32m<ipython-input-17-9cfa2b129113>\u001b[0m in \u001b[0;36mremove_html_markup\u001b[1;34m(s)\u001b[0m\n\u001b[0;32m     11\u001b[0m             \u001b[0mtag\u001b[0m \u001b[1;33m=\u001b[0m \u001b[1;32mFalse\u001b[0m\u001b[1;33m\u001b[0m\u001b[1;33m\u001b[0m\u001b[0m\n\u001b[0;32m     12\u001b[0m         \u001b[1;32melif\u001b[0m \u001b[0mc\u001b[0m \u001b[1;33m==\u001b[0m \u001b[1;34m'\"'\u001b[0m \u001b[1;32mor\u001b[0m \u001b[0mc\u001b[0m \u001b[1;33m==\u001b[0m \u001b[1;34m\"'\"\u001b[0m \u001b[1;32mand\u001b[0m \u001b[0mtag\u001b[0m\u001b[1;33m:\u001b[0m\u001b[1;33m\u001b[0m\u001b[1;33m\u001b[0m\u001b[0m\n\u001b[1;32m---> 13\u001b[1;33m             \u001b[1;32massert\u001b[0m \u001b[1;32mFalse\u001b[0m\u001b[1;33m\u001b[0m\u001b[1;33m\u001b[0m\u001b[0m\n\u001b[0m\u001b[0;32m     14\u001b[0m             \u001b[0mquote\u001b[0m \u001b[1;33m=\u001b[0m \u001b[1;32mnot\u001b[0m \u001b[0mquote\u001b[0m\u001b[1;33m\u001b[0m\u001b[1;33m\u001b[0m\u001b[0m\n\u001b[0;32m     15\u001b[0m         \u001b[1;32melif\u001b[0m \u001b[1;32mnot\u001b[0m \u001b[0mtag\u001b[0m\u001b[1;33m:\u001b[0m\u001b[1;33m\u001b[0m\u001b[1;33m\u001b[0m\u001b[0m\n",
      "\u001b[1;31mAssertionError\u001b[0m: "
     ]
    }
   ],
   "source": [
    "print(remove_html_markup('\"foo\"'))\n",
    "print(remove_html_markup('\"<bar\"'))\n",
    "print(remove_html_markup(\"\"))"
   ]
  },
  {
   "cell_type": "markdown",
   "metadata": {},
   "source": [
    "How we know that the codition evaluates to true. Know that double quote are striped from before but now lets try to see if single quotes are also stripped."
   ]
  },
  {
   "cell_type": "code",
   "execution_count": 19,
   "metadata": {},
   "outputs": [
    {
     "name": "stdout",
     "output_type": "stream",
     "text": [
      "'foo'\n"
     ]
    }
   ],
   "source": [
    "print(remove_html_markup(\"'foo'\"))"
   ]
  },
  {
   "cell_type": "markdown",
   "metadata": {},
   "source": [
    "So it seems that the single quotes do not get removed. What we know now is that <code>c == '\"' or c == \"'\" and tag:</code> become True when c == '\"' and False when c == \"'\". This gives us a big hint we know that our statment is not evaluating to what we would like. It seems that even when tag is false the expression can still evaluate as true. This is likely due to the order of our operations not being explicite. We will should eval the or statement before the and like the following, <code>(c == '\"' or c == \"'\") and tag:</code>"
   ]
  },
  {
   "cell_type": "code",
   "execution_count": null,
   "metadata": {},
   "outputs": [],
   "source": []
  }
 ],
 "metadata": {
  "kernelspec": {
   "display_name": "Python 3",
   "language": "python",
   "name": "python3"
  },
  "language_info": {
   "codemirror_mode": {
    "name": "ipython",
    "version": 3
   },
   "file_extension": ".py",
   "mimetype": "text/x-python",
   "name": "python",
   "nbconvert_exporter": "python",
   "pygments_lexer": "ipython3",
   "version": "3.7.3"
  }
 },
 "nbformat": 4,
 "nbformat_minor": 2
}
