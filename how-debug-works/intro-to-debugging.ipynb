{
 "cells": [
  {
   "cell_type": "markdown",
   "metadata": {},
   "source": [
    "# Intro to Debugging\n",
    "## Facts on Debugging\n",
    "* 50% of the budget on software projects is spent on testing and debugging and may reach 75%\n",
    "\n",
    "* Software bugs in 2002 cost 59.5 billions dollars and year but improvements in testing and debuggings can reduce the cost by a third to 22 billion a year.\n",
    "\n",
    "The the worst thing about debuggings is that it is a search process that can take any length from a few minutes, hours or days. If you dont know how long it may take its best to use a systematic process. \n",
    "\n",
    "### Where does the term bug come from?\n",
    "On September 9th 1947 a moth got stuck in a relay and got carbonized and caused a short circuit and cause the machine to break. Technicians receive mouth from the relay and this is the first bug found on a computer. "
   ]
  },
  {
   "cell_type": "markdown",
   "metadata": {},
   "source": [
    "## Remove HTML Markup\n",
    "We are tasked the removing HTML Tags from an input. Below we have an example of an input and output. We also have a picture of a finite state machine that will represent how our code will work. If we character is not a tag and we are in tag mode we stay in tag mode. \n",
    "![](img/remove_html.PNG)"
   ]
  },
  {
   "cell_type": "markdown",
   "metadata": {},
   "source": [
    "\n",
    "![](img/remove_html.PNG)"
   ]
  },
  {
   "cell_type": "markdown",
   "metadata": {},
   "source": [
    "![](img/remove_html.PNG)"
   ]
  },
  {
   "cell_type": "markdown",
   "metadata": {},
   "source": [
    "We are tasked with removing all the html tags from an input. In the example above we will take in an input charcter bu character. If we are in tag and the charcter is not a <code>></code> this mean we will stay in tag mode."
   ]
  },
  {
   "cell_type": "markdown",
   "metadata": {},
   "source": [
    "## The Devil's Guide to Debugging\n",
    "* Scatter output statements everywhere\n",
    "* Debug the program into existence\n",
    "* Never back up earlier versions\n",
    "* Don't bother understanding what the program should do\n",
    "* Use the most obvious fix"
   ]
  }
 ],
 "metadata": {
  "kernelspec": {
   "display_name": "Python 3",
   "language": "python",
   "name": "python3"
  },
  "language_info": {
   "codemirror_mode": {
    "name": "ipython",
    "version": 3
   },
   "file_extension": ".py",
   "mimetype": "text/x-python",
   "name": "python",
   "nbconvert_exporter": "python",
   "pygments_lexer": "ipython3",
   "version": "3.7.1"
  }
 },
 "nbformat": 4,
 "nbformat_minor": 2
}
