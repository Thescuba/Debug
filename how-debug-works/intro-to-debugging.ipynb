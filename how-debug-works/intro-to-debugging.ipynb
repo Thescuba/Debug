{
 "cells": [
  {
   "cell_type": "markdown",
   "metadata": {},
   "source": [
    "# Intro to Debugging\n",
    "## Facts on Debugging\n",
    "* 50% of the budget on software projects is spent on testing and debugging and may reach 75%\n",
    "\n",
    "* Software bugs in 2002 cost 59.5 billions dollars and year but improvements in testing and debuggings can reduce the cost by a third to 22 billion a year.\n",
    "\n",
    "The the worst thing about debuggings is that it is a search process that can take any length from a few minutes, hours or days. If you dont know how long it may take its best to use a systematic process. \n",
    "\n",
    "### Where does the term bug come from?\n",
    "On September 9th 1947 a moth got stuck in a relay and got carbonized and caused a short circuit and cause the machine to break. Technicians receive mouth from the relay and this is the first bug found on a computer. "
   ]
  },
  {
   "cell_type": "markdown",
   "metadata": {},
   "source": [
    "## Remove HTML Markup\n",
    "![](img/remove_html.PNG)\n",
    "We are tasked the removing HTML Tags from an input. Below we have an example of an input and output. We also have a picture of a finite state machine that will represents how our code will work. We can be in 2 states either the <code>tag</code> or <code>not tag</code> mode. We can only add a character if we are not in tag mode and the character is a not <code><</code> else we would be moved to tag mode. In the other case where were are in tag mode if the character is <code>></code> we keave to no tag mode but in all other cases we stay in tag mode. Now let see if we translate this to code."
   ]
  },
  {
   "cell_type": "code",
   "execution_count": 10,
   "metadata": {},
   "outputs": [
    {
     "name": "stdout",
     "output_type": "stream",
     "text": [
      "foo\n"
     ]
    }
   ],
   "source": [
    "def remove_html_markup(s):\n",
    "    tag =False\n",
    "    out = \"\"\n",
    "    for c in s:\n",
    "        if c == '<':\n",
    "            tag = True\n",
    "        elif c == '>':\n",
    "            tag = False\n",
    "        elif not tag:\n",
    "            out = out + c\n",
    "    return out\n",
    "print(remove_html_markup(\"<b>foo</b>\"))"
   ]
  },
  {
   "cell_type": "markdown",
   "metadata": {},
   "source": [
    "Our first example seem to work exactly as we expected but now we should check a few more examples."
   ]
  },
  {
   "cell_type": "code",
   "execution_count": 9,
   "metadata": {},
   "outputs": [
    {
     "name": "stdout",
     "output_type": "stream",
     "text": [
      "foo\n",
      "\"foo\n",
      "foo\n"
     ]
    }
   ],
   "source": [
    "print(remove_html_markup(\"\"\"<a href=\"foo.html\">foo</a>\"\"\"))\n",
    "print(remove_html_markup(\"\"\"<a href=\">\">foo</a>\"\"\"))\n",
    "print(remove_html_markup(\"\"\"<a href=\"\">foo</a>\"\"\"))"
   ]
  },
  {
   "cell_type": "markdown",
   "metadata": {},
   "source": [
    "Look like we have a bug in our code! Looks like it seems that we need to account for <code>></code> inside our html tag. Looks like we can ignore brackets inside our quotation marks. Let add a third state to our state machine."
   ]
  },
  {
   "cell_type": "markdown",
   "metadata": {},
   "source": [
    "![](img/first_bug.PNG)"
   ]
  },
  {
   "cell_type": "code",
   "execution_count": 1,
   "metadata": {},
   "outputs": [
    {
     "name": "stdout",
     "output_type": "stream",
     "text": [
      "foo\n",
      "foo\n",
      "foo\n"
     ]
    }
   ],
   "source": [
    "def remove_html_markup(s):\n",
    "    tag = False\n",
    "    quote = False\n",
    "    out = \"\"\n",
    "    \n",
    "    for c in s:\n",
    "        if c == '<' and not quote:\n",
    "            tag = True\n",
    "        elif c == '>'and not quote:\n",
    "            tag = False\n",
    "        elif c == '\"' or c == \"'\":\n",
    "            quote = not quote\n",
    "        elif not tag:\n",
    "            out = out + c\n",
    "    return out\n",
    "print(remove_html_markup(\"\"\"<a href=\"foo.html\">foo</a>\"\"\"))\n",
    "print(remove_html_markup(\"\"\"<a href=\">\">foo</a>\"\"\"))\n",
    "print(remove_html_markup(\"\"\"<a href=\"\">foo</a>\"\"\"))"
   ]
  },
  {
   "cell_type": "markdown",
   "metadata": {},
   "source": [
    "Look like we are now passing all of our test. Lets if our code has any other bugs."
   ]
  },
  {
   "cell_type": "code",
   "execution_count": 2,
   "metadata": {},
   "outputs": [
    {
     "name": "stdout",
     "output_type": "stream",
     "text": [
      "<b>foo</b>\n"
     ]
    }
   ],
   "source": [
    "print(remove_html_markup('\"<b>foo</b>\"'))"
   ]
  },
  {
   "cell_type": "markdown",
   "metadata": {},
   "source": [
    "Looks like their is still a bug in our code from above. The markup seems to still exist in our test. The first thing we would may want to do is to print out everything so we can see what is happening in our code. Printing out our could cause a security nightmare, in Mac OS version 10.7.2/10.7.3 there was a security issue because a programer had left debugging  print statements in the code. This resulted in you as a user let you in or not let you in and store your log of your passwords entered. Before we go any further lets review the devil's guide to debugging, which tell us how not to go about debugging our code."
   ]
  },
  {
   "cell_type": "markdown",
   "metadata": {},
   "source": [
    "## The Devil's Guide to Debugging\n",
    "* Scatter output statements everywhere\n",
    "* Debug the program into existence\n",
    "* Never back up earlier versions\n",
    "* Don't bother understanding what the program should do\n",
    "* Use the most obvious fix\n",
    "Failures are errors, a defect is an error in the code that maybe result in a failure. A defect may also be referred to as a bug. Every infection can be traced back to a defect that caused it."
   ]
  },
  {
   "cell_type": "markdown",
   "metadata": {},
   "source": [
    "## The Scientific Method\n",
    "Say you are Isacc Newton and you sit under a tree, and an apple falls. If apples keeps falling, you may want to try to see if bricks fall down. It seems cups also falls down. You may think that everything falls down. Later on someone says a balloon does up. \n",
    "\n",
    "* Inital observation\n",
    "* Hypothesis\n",
    "* Prediction\n",
    "* Experiment\n",
    "* Observation\n",
    "* Support-refine, Reject-create new\n",
    "\n",
    "Repeat these steps until your hypothesis is consistent with your observation.\n",
    "\n",
    "Lets try this with our code.\n",
    "|input|expected|output|\n",
    "|---|---|---|\n",
    "|   |   |   |   \n",
    "|   |   |   |   \n",
    "|   |   |   |  "
   ]
  }
 ],
 "metadata": {
  "kernelspec": {
   "display_name": "Python 3",
   "language": "python",
   "name": "python3"
  },
  "language_info": {
   "codemirror_mode": {
    "name": "ipython",
    "version": 3
   },
   "file_extension": ".py",
   "mimetype": "text/x-python",
   "name": "python",
   "nbconvert_exporter": "python",
   "pygments_lexer": "ipython3",
   "version": "3.7.3"
  }
 },
 "nbformat": 4,
 "nbformat_minor": 2
}
