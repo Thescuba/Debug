{
 "cells": [
  {
   "cell_type": "markdown",
   "metadata": {},
   "source": [
    "# Intro to Debugging\n",
    "## Facts on Debugging\n",
    "* 50% of the budget on software projects is spent on testing and debugging and may even go up to 75%\n",
    "\n",
    "* Software bugs in 2002 cost 59.5 billions dollars and year but improvements in testing and debuggings can reduce the cost but a third to 22 billion a year.\n",
    "\n",
    "The the worst thing about debuggings is that it is a search process that can take any length,"
   ]
  }
 ],
 "metadata": {
  "kernelspec": {
   "display_name": "Python 3",
   "language": "python",
   "name": "python3"
  },
  "language_info": {
   "codemirror_mode": {
    "name": "ipython",
    "version": 3
   },
   "file_extension": ".py",
   "mimetype": "text/x-python",
   "name": "python",
   "nbconvert_exporter": "python",
   "pygments_lexer": "ipython3",
   "version": "3.7.3"
  }
 },
 "nbformat": 4,
 "nbformat_minor": 2
}
